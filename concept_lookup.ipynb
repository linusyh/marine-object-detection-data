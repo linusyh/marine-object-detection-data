{
 "cells": [
  {
   "cell_type": "code",
   "execution_count": 7,
   "metadata": {},
   "outputs": [],
   "source": [
    "from pathlib import Path"
   ]
  },
  {
   "cell_type": "code",
   "execution_count": 9,
   "metadata": {},
   "outputs": [],
   "source": [
    "images_path = Path(\"images\")\n",
    "skipped_folders = [\".metadata\"]"
   ]
  },
  {
   "cell_type": "code",
   "execution_count": 6,
   "metadata": {},
   "outputs": [
    {
     "ename": "OSError",
     "evalue": "[Errno 19] No such device: 'images'",
     "output_type": "error",
     "traceback": [
      "\u001b[0;31m---------------------------------------------------------------------------\u001b[0m",
      "\u001b[0;31mOSError\u001b[0m                                   Traceback (most recent call last)",
      "\u001b[1;32m/mnt/e/fathomnet/concept_lookup.ipynb Cell 3\u001b[0m in \u001b[0;36m<cell line: 2>\u001b[0;34m()\u001b[0m\n\u001b[1;32m      <a href='vscode-notebook-cell://wsl%2Bubuntu-20.04/mnt/e/fathomnet/concept_lookup.ipynb#W2sdnNjb2RlLXJlbW90ZQ%3D%3D?line=0'>1</a>\u001b[0m d \u001b[39m=\u001b[39m {}\n\u001b[0;32m----> <a href='vscode-notebook-cell://wsl%2Bubuntu-20.04/mnt/e/fathomnet/concept_lookup.ipynb#W2sdnNjb2RlLXJlbW90ZQ%3D%3D?line=1'>2</a>\u001b[0m \u001b[39mfor\u001b[39;00m p \u001b[39min\u001b[39;00m images_path\u001b[39m.\u001b[39mglob(\u001b[39m\"\u001b[39m\u001b[39m*\u001b[39m\u001b[39m\"\u001b[39m):\n\u001b[1;32m      <a href='vscode-notebook-cell://wsl%2Bubuntu-20.04/mnt/e/fathomnet/concept_lookup.ipynb#W2sdnNjb2RlLXJlbW90ZQ%3D%3D?line=2'>3</a>\u001b[0m     \u001b[39mif\u001b[39;00m \u001b[39mnot\u001b[39;00m p\u001b[39m.\u001b[39mis_dir() \u001b[39mor\u001b[39;00m p\u001b[39m.\u001b[39mname \u001b[39min\u001b[39;00m skipped_folders:\n\u001b[1;32m      <a href='vscode-notebook-cell://wsl%2Bubuntu-20.04/mnt/e/fathomnet/concept_lookup.ipynb#W2sdnNjb2RlLXJlbW90ZQ%3D%3D?line=3'>4</a>\u001b[0m         \u001b[39mcontinue\u001b[39;00m\n",
      "File \u001b[0;32m~/.miniconda/envs/ML-torch/lib/python3.9/pathlib.py:1177\u001b[0m, in \u001b[0;36mPath.glob\u001b[0;34m(self, pattern)\u001b[0m\n\u001b[1;32m   1175\u001b[0m     \u001b[39mraise\u001b[39;00m \u001b[39mNotImplementedError\u001b[39;00m(\u001b[39m\"\u001b[39m\u001b[39mNon-relative patterns are unsupported\u001b[39m\u001b[39m\"\u001b[39m)\n\u001b[1;32m   1176\u001b[0m selector \u001b[39m=\u001b[39m _make_selector(\u001b[39mtuple\u001b[39m(pattern_parts), \u001b[39mself\u001b[39m\u001b[39m.\u001b[39m_flavour)\n\u001b[0;32m-> 1177\u001b[0m \u001b[39mfor\u001b[39;00m p \u001b[39min\u001b[39;00m selector\u001b[39m.\u001b[39;49mselect_from(\u001b[39mself\u001b[39;49m):\n\u001b[1;32m   1178\u001b[0m     \u001b[39myield\u001b[39;00m p\n",
      "File \u001b[0;32m~/.miniconda/envs/ML-torch/lib/python3.9/pathlib.py:523\u001b[0m, in \u001b[0;36m_Selector.select_from\u001b[0;34m(self, parent_path)\u001b[0m\n\u001b[1;32m    521\u001b[0m exists \u001b[39m=\u001b[39m path_cls\u001b[39m.\u001b[39mexists\n\u001b[1;32m    522\u001b[0m scandir \u001b[39m=\u001b[39m parent_path\u001b[39m.\u001b[39m_accessor\u001b[39m.\u001b[39mscandir\n\u001b[0;32m--> 523\u001b[0m \u001b[39mif\u001b[39;00m \u001b[39mnot\u001b[39;00m is_dir(parent_path):\n\u001b[1;32m    524\u001b[0m     \u001b[39mreturn\u001b[39;00m \u001b[39miter\u001b[39m([])\n\u001b[1;32m    525\u001b[0m \u001b[39mreturn\u001b[39;00m \u001b[39mself\u001b[39m\u001b[39m.\u001b[39m_select_from(parent_path, is_dir, exists, scandir)\n",
      "File \u001b[0;32m~/.miniconda/envs/ML-torch/lib/python3.9/pathlib.py:1439\u001b[0m, in \u001b[0;36mPath.is_dir\u001b[0;34m(self)\u001b[0m\n\u001b[1;32m   1435\u001b[0m \u001b[39m\"\"\"\u001b[39;00m\n\u001b[1;32m   1436\u001b[0m \u001b[39mWhether this path is a directory.\u001b[39;00m\n\u001b[1;32m   1437\u001b[0m \u001b[39m\"\"\"\u001b[39;00m\n\u001b[1;32m   1438\u001b[0m \u001b[39mtry\u001b[39;00m:\n\u001b[0;32m-> 1439\u001b[0m     \u001b[39mreturn\u001b[39;00m S_ISDIR(\u001b[39mself\u001b[39;49m\u001b[39m.\u001b[39;49mstat()\u001b[39m.\u001b[39mst_mode)\n\u001b[1;32m   1440\u001b[0m \u001b[39mexcept\u001b[39;00m \u001b[39mOSError\u001b[39;00m \u001b[39mas\u001b[39;00m e:\n\u001b[1;32m   1441\u001b[0m     \u001b[39mif\u001b[39;00m \u001b[39mnot\u001b[39;00m _ignore_error(e):\n",
      "File \u001b[0;32m~/.miniconda/envs/ML-torch/lib/python3.9/pathlib.py:1232\u001b[0m, in \u001b[0;36mPath.stat\u001b[0;34m(self)\u001b[0m\n\u001b[1;32m   1227\u001b[0m \u001b[39mdef\u001b[39;00m \u001b[39mstat\u001b[39m(\u001b[39mself\u001b[39m):\n\u001b[1;32m   1228\u001b[0m     \u001b[39m\"\"\"\u001b[39;00m\n\u001b[1;32m   1229\u001b[0m \u001b[39m    Return the result of the stat() system call on this path, like\u001b[39;00m\n\u001b[1;32m   1230\u001b[0m \u001b[39m    os.stat() does.\u001b[39;00m\n\u001b[1;32m   1231\u001b[0m \u001b[39m    \"\"\"\u001b[39;00m\n\u001b[0;32m-> 1232\u001b[0m     \u001b[39mreturn\u001b[39;00m \u001b[39mself\u001b[39;49m\u001b[39m.\u001b[39;49m_accessor\u001b[39m.\u001b[39;49mstat(\u001b[39mself\u001b[39;49m)\n",
      "\u001b[0;31mOSError\u001b[0m: [Errno 19] No such device: 'images'"
     ]
    }
   ],
   "source": [
    "d = {}\n",
    "for p in images_path.glob(\"*\"):\n",
    "    if not p.is_dir() or p.name in skipped_folders:\n",
    "        continue\n",
    "    print(f\"Processing {p}\")\n",
    "    superconcept = p.name.lower()\n",
    "    for subdir in p.glob(\"**/\"):\n",
    "        concept = subdir.name\n",
    "        if concept in d.keys():\n",
    "            print(f\"Conflict: {concept} found in both {d[concept]} and {superconcept}.\")\n",
    "            print(f\"=> {d[concept]} overwritten.\")\n",
    "        d[concept] = superconcept\n",
    "print(len(d))"
   ]
  }
 ],
 "metadata": {
  "kernelspec": {
   "display_name": "Python 3.9.13 ('ML-torch')",
   "language": "python",
   "name": "python3"
  },
  "language_info": {
   "codemirror_mode": {
    "name": "ipython",
    "version": 3
   },
   "file_extension": ".py",
   "mimetype": "text/x-python",
   "name": "python",
   "nbconvert_exporter": "python",
   "pygments_lexer": "ipython3",
   "version": "3.9.13"
  },
  "orig_nbformat": 4,
  "vscode": {
   "interpreter": {
    "hash": "678939ad914ef98e90eb8b3934734890f55edcd02e49b17c7b42f1dfc7b3d0b4"
   }
  }
 },
 "nbformat": 4,
 "nbformat_minor": 2
}
